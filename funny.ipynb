{
  "nbformat": 4,
  "nbformat_minor": 0,
  "metadata": {
    "colab": {
      "name": "funny.ipynb",
      "provenance": [],
      "collapsed_sections": [],
      "authorship_tag": "ABX9TyM590RbJcPkrac41v6+ODDK",
      "include_colab_link": true
    },
    "kernelspec": {
      "name": "python3",
      "display_name": "Python 3"
    },
    "language_info": {
      "name": "python"
    }
  },
  "cells": [
    {
      "cell_type": "markdown",
      "metadata": {
        "id": "view-in-github",
        "colab_type": "text"
      },
      "source": [
        "<a href=\"https://colab.research.google.com/github/vhrehfdl/Algorithm/blob/master/funny.ipynb\" target=\"_parent\"><img src=\"https://colab.research.google.com/assets/colab-badge.svg\" alt=\"Open In Colab\"/></a>"
      ]
    },
    {
      "cell_type": "code",
      "metadata": {
        "colab": {
          "base_uri": "https://localhost:8080/"
        },
        "id": "-paMm8YCcZlX",
        "outputId": "a510f99e-04c6-4a48-ad09-62ffe2959986"
      },
      "source": [
        "from keras.layers import Embedding, Dense, Flatten, Input, concatenate\n",
        "from keras.layers.convolutional import Conv1D\n",
        "from keras.layers.pooling import MaxPool1D\n",
        "from keras.models import Model\n",
        "import keras\n",
        "\n",
        "vocab_size = 5\n",
        "\n",
        "model = keras.Sequential()\n",
        "model.add(keras.layers.Embedding(vocab_size, 3, input_shape=(None,)))\n",
        "model.add(keras.layers.GlobalAveragePooling1D())\n",
        "model.add(keras.layers.Dense(16, activation='relu'))\n",
        "model.add(keras.layers.Dense(1, activation='sigmoid'))\n",
        "\n",
        "# model = Model(inputs=input_layer, outputs=output_layer)\n",
        "model.summary()\n",
        "model.compile(loss='binary_crossentropy', optimizer='adam', metrics=['accuracy'])\n",
        "\n",
        "\n",
        "train_x = [[1, 0, 0, 0, 0]]\n",
        "train_y = [1]\n",
        "\n",
        "embeddings = model.layers[0].get_weights()\n",
        "print(embeddings)\n",
        "\n",
        "# output = model.layers[1].output\n",
        "# print(output)\n",
        "\n",
        "model.fit(train_x, train_y, epochs=2)\n",
        "\n",
        "embeddings = model.layers[0].get_weights()\n",
        "print(embeddings)"
      ],
      "execution_count": 13,
      "outputs": [
        {
          "output_type": "stream",
          "name": "stdout",
          "text": [
            "Model: \"sequential_12\"\n",
            "_________________________________________________________________\n",
            "Layer (type)                 Output Shape              Param #   \n",
            "=================================================================\n",
            "embedding_12 (Embedding)     (None, None, 3)           15        \n",
            "_________________________________________________________________\n",
            "global_average_pooling1d_4 ( (None, 3)                 0         \n",
            "_________________________________________________________________\n",
            "dense_19 (Dense)             (None, 16)                64        \n",
            "_________________________________________________________________\n",
            "dense_20 (Dense)             (None, 1)                 17        \n",
            "=================================================================\n",
            "Total params: 96\n",
            "Trainable params: 96\n",
            "Non-trainable params: 0\n",
            "_________________________________________________________________\n",
            "[array([[ 0.04691422,  0.03510788, -0.04354726],\n",
            "       [ 0.04476305, -0.02518958, -0.00039076],\n",
            "       [ 0.04488098,  0.0302107 ,  0.04095388],\n",
            "       [ 0.01989913,  0.04015218, -0.01228218],\n",
            "       [-0.03731634, -0.02177755, -0.03214903]], dtype=float32)]\n",
            "Epoch 1/2\n",
            "1/1 [==============================] - 0s 497ms/step - loss: 0.6900 - accuracy: 1.0000\n",
            "Epoch 2/2\n",
            "1/1 [==============================] - 0s 4ms/step - loss: 0.6884 - accuracy: 1.0000\n",
            "[array([[ 0.0449148 ,  0.03710799, -0.0455474 ],\n",
            "       [ 0.04276392, -0.02318964, -0.0023907 ],\n",
            "       [ 0.04488098,  0.0302107 ,  0.04095388],\n",
            "       [ 0.01989913,  0.04015218, -0.01228218],\n",
            "       [-0.03731634, -0.02177755, -0.03214903]], dtype=float32)]\n"
          ]
        }
      ]
    },
    {
      "cell_type": "code",
      "metadata": {
        "colab": {
          "base_uri": "https://localhost:8080/"
        },
        "id": "9cCsnjOPpG2d",
        "outputId": "b598e0fb-9eea-4554-a000-9786dfe3bf83"
      },
      "source": [
        "from keras.layers import Embedding, Dense, Flatten, Input, concatenate\n",
        "from keras.layers.convolutional import Conv1D\n",
        "from keras.layers.pooling import MaxPool1D\n",
        "from keras.models import Model\n",
        "\n",
        "from sklearn import preprocessing\n",
        "\n",
        "sequence_len = 10\n",
        "\n",
        "input_layer = Input(shape=(sequence_len,))\n",
        "hidden_layer = Dense(3)(input_layer)\n",
        "output_layer = Dense(10, activation='softmax')(hidden_layer)\n",
        "\n",
        "model = Model(inputs=input_layer, outputs=output_layer)\n",
        "model.summary()\n",
        "model.compile(loss='categorical_crossentropy', optimizer='adam', metrics=['accuracy'])\n",
        "\n",
        "train_x = [[1, 0, 0, 0, 0, 0, 0, 0, 0, 0]]\n",
        "train_y = [[0, 0, 0, 0, 0, 0, 0, 1, 0, 0]]\n",
        "\n",
        "\n",
        "embeddings = model.layers[1].get_weights()\n",
        "print(embeddings)\n",
        "\n",
        "model.fit(train_x, train_y, epochs=5)\n",
        "\n",
        "embeddings = model.layers[1].get_weights()\n",
        "print(embeddings)"
      ],
      "execution_count": 24,
      "outputs": [
        {
          "output_type": "stream",
          "name": "stdout",
          "text": [
            "Model: \"model_20\"\n",
            "_________________________________________________________________\n",
            "Layer (type)                 Output Shape              Param #   \n",
            "=================================================================\n",
            "input_23 (InputLayer)        [(None, 10)]              0         \n",
            "_________________________________________________________________\n",
            "dense_32 (Dense)             (None, 3)                 33        \n",
            "_________________________________________________________________\n",
            "dense_33 (Dense)             (None, 10)                40        \n",
            "=================================================================\n",
            "Total params: 73\n",
            "Trainable params: 73\n",
            "Non-trainable params: 0\n",
            "_________________________________________________________________\n",
            "[array([[-0.377887  ,  0.50645363, -0.56694996],\n",
            "       [ 0.11037332,  0.32532477,  0.52489614],\n",
            "       [ 0.6062516 , -0.5481818 , -0.3605236 ],\n",
            "       [-0.1474685 ,  0.2095502 , -0.33344504],\n",
            "       [-0.05465686,  0.33288383, -0.16342497],\n",
            "       [ 0.02702737,  0.5976809 , -0.6165017 ],\n",
            "       [ 0.60089123,  0.65117764, -0.37760597],\n",
            "       [ 0.5043328 , -0.33982176,  0.54519427],\n",
            "       [-0.599005  , -0.2812191 , -0.4678254 ],\n",
            "       [-0.1030829 ,  0.40839696, -0.02563035]], dtype=float32), array([0., 0., 0.], dtype=float32)]\n",
            "Epoch 1/5\n",
            "1/1 [==============================] - 0s 320ms/step - loss: 2.4109 - accuracy: 0.0000e+00\n",
            "Epoch 2/5\n",
            "1/1 [==============================] - 0s 7ms/step - loss: 2.4044 - accuracy: 0.0000e+00\n",
            "Epoch 3/5\n",
            "1/1 [==============================] - 0s 4ms/step - loss: 2.3979 - accuracy: 0.0000e+00\n",
            "Epoch 4/5\n",
            "1/1 [==============================] - 0s 5ms/step - loss: 2.3914 - accuracy: 0.0000e+00\n",
            "Epoch 5/5\n",
            "1/1 [==============================] - 0s 4ms/step - loss: 2.3849 - accuracy: 0.0000e+00\n",
            "[array([[-0.37288874,  0.5114557 , -0.5619912 ],\n",
            "       [ 0.11037332,  0.32532477,  0.52489614],\n",
            "       [ 0.6062516 , -0.5481818 , -0.3605236 ],\n",
            "       [-0.1474685 ,  0.2095502 , -0.33344504],\n",
            "       [-0.05465686,  0.33288383, -0.16342497],\n",
            "       [ 0.02702737,  0.5976809 , -0.6165017 ],\n",
            "       [ 0.60089123,  0.65117764, -0.37760597],\n",
            "       [ 0.5043328 , -0.33982176,  0.54519427],\n",
            "       [-0.599005  , -0.2812191 , -0.4678254 ],\n",
            "       [-0.1030829 ,  0.40839696, -0.02563035]], dtype=float32), array([0.00499826, 0.00500208, 0.00495872], dtype=float32)]\n"
          ]
        }
      ]
    }
  ]
}